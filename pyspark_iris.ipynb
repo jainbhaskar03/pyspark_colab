{
  "nbformat": 4,
  "nbformat_minor": 0,
  "metadata": {
    "colab": {
      "name": "pyspark_iris.ipynb",
      "provenance": [],
      "collapsed_sections": []
    },
    "kernelspec": {
      "name": "python3",
      "display_name": "Python 3"
    }
  },
  "cells": [
    {
      "cell_type": "code",
      "metadata": {
        "id": "B9udJvS91YbA",
        "colab_type": "code",
        "colab": {}
      },
      "source": [
        "## INSTALLING ALL THE NECESSARY MODULES \n",
        "!apt-get install openjdk-8-jdk-headless -qq > /dev/null\n",
        "!wget -q https://www-us.apache.org/dist/spark/spark-2.4.5/spark-2.4.5-bin-hadoop2.7.tgz\n",
        "!tar xf /content/spark-2.4.5-bin-hadoop2.7.tgz\n",
        "!pip install -q findspark"
      ],
      "execution_count": 0,
      "outputs": []
    },
    {
      "cell_type": "code",
      "metadata": {
        "id": "CQt-dx8K-d9k",
        "colab_type": "code",
        "colab": {}
      },
      "source": [
        "## SETTING UP THE ENVIROMENT\n",
        "import os\n",
        "os.environ[\"JAVA_HOME\"] = \"/usr/lib/jvm/java-8-openjdk-amd64\"\n",
        "os.environ[\"SPARK_HOME\"] = \"/content/spark-2.4.5-bin-hadoop2.7\""
      ],
      "execution_count": 0,
      "outputs": []
    },
    {
      "cell_type": "code",
      "metadata": {
        "id": "_uoKq3qH9mqm",
        "colab_type": "code",
        "colab": {}
      },
      "source": [
        "## INITIALIZING THE VARIABLES AND CONFIGURATIONS\n",
        "import findspark\n",
        "findspark.init()\n",
        "from pyspark.sql import SparkSession\n",
        "spark = SparkSession.builder.appName('iris_test').master(\"local[*]\").getOrCreate()"
      ],
      "execution_count": 0,
      "outputs": []
    },
    {
      "cell_type": "code",
      "metadata": {
        "id": "_MyV8T9_1oyW",
        "colab_type": "code",
        "colab": {
          "base_uri": "https://localhost:8080/",
          "height": 204
        },
        "outputId": "70caee83-706e-44aa-a8f1-0c8a40d829df"
      },
      "source": [
        "#### IMPORTING DATA FROM PANDAS LIBRARY TO FEED PYSPARK DATAFRAME \n",
        "import pandas as pd \n",
        "url = \"https://gist.githubusercontent.com/curran/a08a1080b88344b0c8a7/raw/639388c2cbc2120a14dcf466e85730eb8be498bb/iris.csv\"\n",
        "df = pd.read_csv(url, header = 'infer')\n",
        "df.head()"
      ],
      "execution_count": 6,
      "outputs": [
        {
          "output_type": "execute_result",
          "data": {
            "text/html": [
              "<div>\n",
              "<style scoped>\n",
              "    .dataframe tbody tr th:only-of-type {\n",
              "        vertical-align: middle;\n",
              "    }\n",
              "\n",
              "    .dataframe tbody tr th {\n",
              "        vertical-align: top;\n",
              "    }\n",
              "\n",
              "    .dataframe thead th {\n",
              "        text-align: right;\n",
              "    }\n",
              "</style>\n",
              "<table border=\"1\" class=\"dataframe\">\n",
              "  <thead>\n",
              "    <tr style=\"text-align: right;\">\n",
              "      <th></th>\n",
              "      <th>sepal_length</th>\n",
              "      <th>sepal_width</th>\n",
              "      <th>petal_length</th>\n",
              "      <th>petal_width</th>\n",
              "      <th>species</th>\n",
              "    </tr>\n",
              "  </thead>\n",
              "  <tbody>\n",
              "    <tr>\n",
              "      <th>0</th>\n",
              "      <td>5.1</td>\n",
              "      <td>3.5</td>\n",
              "      <td>1.4</td>\n",
              "      <td>0.2</td>\n",
              "      <td>setosa</td>\n",
              "    </tr>\n",
              "    <tr>\n",
              "      <th>1</th>\n",
              "      <td>4.9</td>\n",
              "      <td>3.0</td>\n",
              "      <td>1.4</td>\n",
              "      <td>0.2</td>\n",
              "      <td>setosa</td>\n",
              "    </tr>\n",
              "    <tr>\n",
              "      <th>2</th>\n",
              "      <td>4.7</td>\n",
              "      <td>3.2</td>\n",
              "      <td>1.3</td>\n",
              "      <td>0.2</td>\n",
              "      <td>setosa</td>\n",
              "    </tr>\n",
              "    <tr>\n",
              "      <th>3</th>\n",
              "      <td>4.6</td>\n",
              "      <td>3.1</td>\n",
              "      <td>1.5</td>\n",
              "      <td>0.2</td>\n",
              "      <td>setosa</td>\n",
              "    </tr>\n",
              "    <tr>\n",
              "      <th>4</th>\n",
              "      <td>5.0</td>\n",
              "      <td>3.6</td>\n",
              "      <td>1.4</td>\n",
              "      <td>0.2</td>\n",
              "      <td>setosa</td>\n",
              "    </tr>\n",
              "  </tbody>\n",
              "</table>\n",
              "</div>"
            ],
            "text/plain": [
              "   sepal_length  sepal_width  petal_length  petal_width species\n",
              "0           5.1          3.5           1.4          0.2  setosa\n",
              "1           4.9          3.0           1.4          0.2  setosa\n",
              "2           4.7          3.2           1.3          0.2  setosa\n",
              "3           4.6          3.1           1.5          0.2  setosa\n",
              "4           5.0          3.6           1.4          0.2  setosa"
            ]
          },
          "metadata": {
            "tags": []
          },
          "execution_count": 6
        }
      ]
    },
    {
      "cell_type": "code",
      "metadata": {
        "id": "PeZQNVzr1pe0",
        "colab_type": "code",
        "colab": {
          "base_uri": "https://localhost:8080/",
          "height": 459
        },
        "outputId": "23148fb1-154d-4848-b30d-39526aecb7a4"
      },
      "source": [
        "#### MAKING PYSPARK DATAFRAME FROM PANDAS DATAFRAME \n",
        "py_df= spark.createDataFrame(df)\n",
        "py_df.show()"
      ],
      "execution_count": 7,
      "outputs": [
        {
          "output_type": "stream",
          "text": [
            "+------------+-----------+------------+-----------+-------+\n",
            "|sepal_length|sepal_width|petal_length|petal_width|species|\n",
            "+------------+-----------+------------+-----------+-------+\n",
            "|         5.1|        3.5|         1.4|        0.2| setosa|\n",
            "|         4.9|        3.0|         1.4|        0.2| setosa|\n",
            "|         4.7|        3.2|         1.3|        0.2| setosa|\n",
            "|         4.6|        3.1|         1.5|        0.2| setosa|\n",
            "|         5.0|        3.6|         1.4|        0.2| setosa|\n",
            "|         5.4|        3.9|         1.7|        0.4| setosa|\n",
            "|         4.6|        3.4|         1.4|        0.3| setosa|\n",
            "|         5.0|        3.4|         1.5|        0.2| setosa|\n",
            "|         4.4|        2.9|         1.4|        0.2| setosa|\n",
            "|         4.9|        3.1|         1.5|        0.1| setosa|\n",
            "|         5.4|        3.7|         1.5|        0.2| setosa|\n",
            "|         4.8|        3.4|         1.6|        0.2| setosa|\n",
            "|         4.8|        3.0|         1.4|        0.1| setosa|\n",
            "|         4.3|        3.0|         1.1|        0.1| setosa|\n",
            "|         5.8|        4.0|         1.2|        0.2| setosa|\n",
            "|         5.7|        4.4|         1.5|        0.4| setosa|\n",
            "|         5.4|        3.9|         1.3|        0.4| setosa|\n",
            "|         5.1|        3.5|         1.4|        0.3| setosa|\n",
            "|         5.7|        3.8|         1.7|        0.3| setosa|\n",
            "|         5.1|        3.8|         1.5|        0.3| setosa|\n",
            "+------------+-----------+------------+-----------+-------+\n",
            "only showing top 20 rows\n",
            "\n"
          ],
          "name": "stdout"
        }
      ]
    },
    {
      "cell_type": "code",
      "metadata": {
        "id": "jsRN0pqC1qBJ",
        "colab_type": "code",
        "colab": {
          "base_uri": "https://localhost:8080/",
          "height": 136
        },
        "outputId": "b46ea64d-4a81-4932-e606-6bd72e3f1429"
      },
      "source": [
        "### CHECKING THE SCHEMA OF PYSPARK DATAFRAME\n",
        "py_df.printSchema()"
      ],
      "execution_count": 9,
      "outputs": [
        {
          "output_type": "stream",
          "text": [
            "root\n",
            " |-- sepal_length: double (nullable = true)\n",
            " |-- sepal_width: double (nullable = true)\n",
            " |-- petal_length: double (nullable = true)\n",
            " |-- petal_width: double (nullable = true)\n",
            " |-- species: string (nullable = true)\n",
            "\n"
          ],
          "name": "stdout"
        }
      ]
    },
    {
      "cell_type": "code",
      "metadata": {
        "id": "zkX4dfxP1qKJ",
        "colab_type": "code",
        "colab": {}
      },
      "source": [
        "#### IMPORTING VECTOR ASSEMBLER FOR CREATING A FEATURE COLUMN WHICH WILL WORK AS TRAINING DATA (VECTOR REQUIRED FOR ML FORMAT)\n",
        "from pyspark.ml.linalg import Vectors\n",
        "from pyspark.ml.feature import VectorAssembler\n",
        "assembler = VectorAssembler(inputCols=['sepal_length','sepal_width','petal_length','petal_width'],\n",
        "                           outputCol = 'features')"
      ],
      "execution_count": 0,
      "outputs": []
    },
    {
      "cell_type": "code",
      "metadata": {
        "id": "32SD1RYT1qR4",
        "colab_type": "code",
        "colab": {}
      },
      "source": [
        "### IMPORTING NECESSARY LIBRARIES FOR CONVERTING DATA INTO ML FORMAT THAT IS FORMATTING TARGET VARIABLE\n",
        "from pyspark.ml.evaluation import MulticlassClassificationEvaluator\n",
        "from pyspark.ml.feature import StringIndexer,OneHotEncoderEstimator"
      ],
      "execution_count": 0,
      "outputs": []
    },
    {
      "cell_type": "code",
      "metadata": {
        "id": "iwh2bRd277gm",
        "colab_type": "code",
        "colab": {}
      },
      "source": [
        "#### TRANSFORMING DATA INTO REQUIRED FORMAT WHICH IS STRING TO INDEX VARIABLE\n",
        "target = StringIndexer(inputCol = 'species', outputCol = 'species_index')\n",
        "py_df = target.fit(py_df).transform(py_df)"
      ],
      "execution_count": 0,
      "outputs": []
    },
    {
      "cell_type": "code",
      "metadata": {
        "id": "jjovG3CxA8Of",
        "colab_type": "code",
        "colab": {
          "base_uri": "https://localhost:8080/",
          "height": 459
        },
        "outputId": "70ebf8a4-2000-401e-a9de-248e9945e3cf"
      },
      "source": [
        "py_df.show()"
      ],
      "execution_count": 14,
      "outputs": [
        {
          "output_type": "stream",
          "text": [
            "+------------+-----------+------------+-----------+-------+-------------+\n",
            "|sepal_length|sepal_width|petal_length|petal_width|species|species_index|\n",
            "+------------+-----------+------------+-----------+-------+-------------+\n",
            "|         5.1|        3.5|         1.4|        0.2| setosa|          2.0|\n",
            "|         4.9|        3.0|         1.4|        0.2| setosa|          2.0|\n",
            "|         4.7|        3.2|         1.3|        0.2| setosa|          2.0|\n",
            "|         4.6|        3.1|         1.5|        0.2| setosa|          2.0|\n",
            "|         5.0|        3.6|         1.4|        0.2| setosa|          2.0|\n",
            "|         5.4|        3.9|         1.7|        0.4| setosa|          2.0|\n",
            "|         4.6|        3.4|         1.4|        0.3| setosa|          2.0|\n",
            "|         5.0|        3.4|         1.5|        0.2| setosa|          2.0|\n",
            "|         4.4|        2.9|         1.4|        0.2| setosa|          2.0|\n",
            "|         4.9|        3.1|         1.5|        0.1| setosa|          2.0|\n",
            "|         5.4|        3.7|         1.5|        0.2| setosa|          2.0|\n",
            "|         4.8|        3.4|         1.6|        0.2| setosa|          2.0|\n",
            "|         4.8|        3.0|         1.4|        0.1| setosa|          2.0|\n",
            "|         4.3|        3.0|         1.1|        0.1| setosa|          2.0|\n",
            "|         5.8|        4.0|         1.2|        0.2| setosa|          2.0|\n",
            "|         5.7|        4.4|         1.5|        0.4| setosa|          2.0|\n",
            "|         5.4|        3.9|         1.3|        0.4| setosa|          2.0|\n",
            "|         5.1|        3.5|         1.4|        0.3| setosa|          2.0|\n",
            "|         5.7|        3.8|         1.7|        0.3| setosa|          2.0|\n",
            "|         5.1|        3.8|         1.5|        0.3| setosa|          2.0|\n",
            "+------------+-----------+------------+-----------+-------+-------------+\n",
            "only showing top 20 rows\n",
            "\n"
          ],
          "name": "stdout"
        }
      ]
    },
    {
      "cell_type": "code",
      "metadata": {
        "id": "NUmSsIM71qZU",
        "colab_type": "code",
        "colab": {
          "base_uri": "https://localhost:8080/",
          "height": 459
        },
        "outputId": "ae81a00f-c835-4fc5-e142-43fa8da40298"
      },
      "source": [
        "py_df.select('species','species_index').show()"
      ],
      "execution_count": 15,
      "outputs": [
        {
          "output_type": "stream",
          "text": [
            "+-------+-------------+\n",
            "|species|species_index|\n",
            "+-------+-------------+\n",
            "| setosa|          2.0|\n",
            "| setosa|          2.0|\n",
            "| setosa|          2.0|\n",
            "| setosa|          2.0|\n",
            "| setosa|          2.0|\n",
            "| setosa|          2.0|\n",
            "| setosa|          2.0|\n",
            "| setosa|          2.0|\n",
            "| setosa|          2.0|\n",
            "| setosa|          2.0|\n",
            "| setosa|          2.0|\n",
            "| setosa|          2.0|\n",
            "| setosa|          2.0|\n",
            "| setosa|          2.0|\n",
            "| setosa|          2.0|\n",
            "| setosa|          2.0|\n",
            "| setosa|          2.0|\n",
            "| setosa|          2.0|\n",
            "| setosa|          2.0|\n",
            "| setosa|          2.0|\n",
            "+-------+-------------+\n",
            "only showing top 20 rows\n",
            "\n"
          ],
          "name": "stdout"
        }
      ]
    },
    {
      "cell_type": "code",
      "metadata": {
        "id": "S60LMI5x1qhC",
        "colab_type": "code",
        "colab": {
          "base_uri": "https://localhost:8080/",
          "height": 153
        },
        "outputId": "f572d574-910c-4b29-9fbb-9a461efbfb9d"
      },
      "source": [
        "## COUNTING THE NUMBER OF TARGET COUNT PRESENT \n",
        "py_df.groupBy('species_index').count().show()"
      ],
      "execution_count": 16,
      "outputs": [
        {
          "output_type": "stream",
          "text": [
            "+-------------+-----+\n",
            "|species_index|count|\n",
            "+-------------+-----+\n",
            "|          0.0|   50|\n",
            "|          1.0|   50|\n",
            "|          2.0|   50|\n",
            "+-------------+-----+\n",
            "\n"
          ],
          "name": "stdout"
        }
      ]
    },
    {
      "cell_type": "code",
      "metadata": {
        "id": "nb6_f_fJ1qoH",
        "colab_type": "code",
        "colab": {
          "base_uri": "https://localhost:8080/",
          "height": 459
        },
        "outputId": "64f21f81-de6c-404d-bb22-de07662f66ba"
      },
      "source": [
        "## ONE HOT ENCODING OF TARGET VARIABLE \n",
        "OHE = OneHotEncoderEstimator(inputCols=['species_index'],outputCols=['species_ohe'])\n",
        "py_df = OHE.fit(py_df).transform(py_df)"
      ],
      "execution_count": 21,
      "outputs": [
        {
          "output_type": "stream",
          "text": [
            "+------------+-----------+------------+-----------+-------+-------------+-----------+\n",
            "|sepal_length|sepal_width|petal_length|petal_width|species|species_index|species_ohe|\n",
            "+------------+-----------+------------+-----------+-------+-------------+-----------+\n",
            "|         5.1|        3.5|         1.4|        0.2| setosa|          2.0|  (2,[],[])|\n",
            "|         4.9|        3.0|         1.4|        0.2| setosa|          2.0|  (2,[],[])|\n",
            "|         4.7|        3.2|         1.3|        0.2| setosa|          2.0|  (2,[],[])|\n",
            "|         4.6|        3.1|         1.5|        0.2| setosa|          2.0|  (2,[],[])|\n",
            "|         5.0|        3.6|         1.4|        0.2| setosa|          2.0|  (2,[],[])|\n",
            "|         5.4|        3.9|         1.7|        0.4| setosa|          2.0|  (2,[],[])|\n",
            "|         4.6|        3.4|         1.4|        0.3| setosa|          2.0|  (2,[],[])|\n",
            "|         5.0|        3.4|         1.5|        0.2| setosa|          2.0|  (2,[],[])|\n",
            "|         4.4|        2.9|         1.4|        0.2| setosa|          2.0|  (2,[],[])|\n",
            "|         4.9|        3.1|         1.5|        0.1| setosa|          2.0|  (2,[],[])|\n",
            "|         5.4|        3.7|         1.5|        0.2| setosa|          2.0|  (2,[],[])|\n",
            "|         4.8|        3.4|         1.6|        0.2| setosa|          2.0|  (2,[],[])|\n",
            "|         4.8|        3.0|         1.4|        0.1| setosa|          2.0|  (2,[],[])|\n",
            "|         4.3|        3.0|         1.1|        0.1| setosa|          2.0|  (2,[],[])|\n",
            "|         5.8|        4.0|         1.2|        0.2| setosa|          2.0|  (2,[],[])|\n",
            "|         5.7|        4.4|         1.5|        0.4| setosa|          2.0|  (2,[],[])|\n",
            "|         5.4|        3.9|         1.3|        0.4| setosa|          2.0|  (2,[],[])|\n",
            "|         5.1|        3.5|         1.4|        0.3| setosa|          2.0|  (2,[],[])|\n",
            "|         5.7|        3.8|         1.7|        0.3| setosa|          2.0|  (2,[],[])|\n",
            "|         5.1|        3.8|         1.5|        0.3| setosa|          2.0|  (2,[],[])|\n",
            "+------------+-----------+------------+-----------+-------+-------------+-----------+\n",
            "only showing top 20 rows\n",
            "\n"
          ],
          "name": "stdout"
        }
      ]
    },
    {
      "cell_type": "code",
      "metadata": {
        "id": "YzvLzh4F3OVs",
        "colab_type": "code",
        "colab": {
          "base_uri": "https://localhost:8080/",
          "height": 459
        },
        "outputId": "076cfc0b-4c39-436f-cab6-885003bd6737"
      },
      "source": [
        "py_df.select('species','species_index','species_ohe').show()"
      ],
      "execution_count": 20,
      "outputs": [
        {
          "output_type": "stream",
          "text": [
            "+-------+-------------+-----------+\n",
            "|species|species_index|species_ohe|\n",
            "+-------+-------------+-----------+\n",
            "| setosa|          2.0|  (2,[],[])|\n",
            "| setosa|          2.0|  (2,[],[])|\n",
            "| setosa|          2.0|  (2,[],[])|\n",
            "| setosa|          2.0|  (2,[],[])|\n",
            "| setosa|          2.0|  (2,[],[])|\n",
            "| setosa|          2.0|  (2,[],[])|\n",
            "| setosa|          2.0|  (2,[],[])|\n",
            "| setosa|          2.0|  (2,[],[])|\n",
            "| setosa|          2.0|  (2,[],[])|\n",
            "| setosa|          2.0|  (2,[],[])|\n",
            "| setosa|          2.0|  (2,[],[])|\n",
            "| setosa|          2.0|  (2,[],[])|\n",
            "| setosa|          2.0|  (2,[],[])|\n",
            "| setosa|          2.0|  (2,[],[])|\n",
            "| setosa|          2.0|  (2,[],[])|\n",
            "| setosa|          2.0|  (2,[],[])|\n",
            "| setosa|          2.0|  (2,[],[])|\n",
            "| setosa|          2.0|  (2,[],[])|\n",
            "| setosa|          2.0|  (2,[],[])|\n",
            "| setosa|          2.0|  (2,[],[])|\n",
            "+-------+-------------+-----------+\n",
            "only showing top 20 rows\n",
            "\n"
          ],
          "name": "stdout"
        }
      ]
    },
    {
      "cell_type": "code",
      "metadata": {
        "id": "07Ek8G8S3PqL",
        "colab_type": "code",
        "colab": {
          "base_uri": "https://localhost:8080/",
          "height": 459
        },
        "outputId": "513e061f-43eb-43d0-f06f-459552eaf2ee"
      },
      "source": [
        "########### CHANGING THE NAME OF TARGET VARIABLE TO 'label' AS ML LIBRARY TAKES TARGET VARIABLE FOR THIS NAME ONLY\n",
        "# py_df = py_df.select(*[col(s).alias('label') if s == 'species_index' else s for s in py_df.columns])\n",
        "import pyspark.sql.functions as F\n",
        "py_df = py_df.select( '*', F.col('species_index').alias('label') ).drop('species_index')\n",
        "py_df.show()"
      ],
      "execution_count": 27,
      "outputs": [
        {
          "output_type": "stream",
          "text": [
            "+------------+-----------+------------+-----------+-------+-----------+-----+\n",
            "|sepal_length|sepal_width|petal_length|petal_width|species|species_ohe|label|\n",
            "+------------+-----------+------------+-----------+-------+-----------+-----+\n",
            "|         5.1|        3.5|         1.4|        0.2| setosa|  (2,[],[])|  2.0|\n",
            "|         4.9|        3.0|         1.4|        0.2| setosa|  (2,[],[])|  2.0|\n",
            "|         4.7|        3.2|         1.3|        0.2| setosa|  (2,[],[])|  2.0|\n",
            "|         4.6|        3.1|         1.5|        0.2| setosa|  (2,[],[])|  2.0|\n",
            "|         5.0|        3.6|         1.4|        0.2| setosa|  (2,[],[])|  2.0|\n",
            "|         5.4|        3.9|         1.7|        0.4| setosa|  (2,[],[])|  2.0|\n",
            "|         4.6|        3.4|         1.4|        0.3| setosa|  (2,[],[])|  2.0|\n",
            "|         5.0|        3.4|         1.5|        0.2| setosa|  (2,[],[])|  2.0|\n",
            "|         4.4|        2.9|         1.4|        0.2| setosa|  (2,[],[])|  2.0|\n",
            "|         4.9|        3.1|         1.5|        0.1| setosa|  (2,[],[])|  2.0|\n",
            "|         5.4|        3.7|         1.5|        0.2| setosa|  (2,[],[])|  2.0|\n",
            "|         4.8|        3.4|         1.6|        0.2| setosa|  (2,[],[])|  2.0|\n",
            "|         4.8|        3.0|         1.4|        0.1| setosa|  (2,[],[])|  2.0|\n",
            "|         4.3|        3.0|         1.1|        0.1| setosa|  (2,[],[])|  2.0|\n",
            "|         5.8|        4.0|         1.2|        0.2| setosa|  (2,[],[])|  2.0|\n",
            "|         5.7|        4.4|         1.5|        0.4| setosa|  (2,[],[])|  2.0|\n",
            "|         5.4|        3.9|         1.3|        0.4| setosa|  (2,[],[])|  2.0|\n",
            "|         5.1|        3.5|         1.4|        0.3| setosa|  (2,[],[])|  2.0|\n",
            "|         5.7|        3.8|         1.7|        0.3| setosa|  (2,[],[])|  2.0|\n",
            "|         5.1|        3.8|         1.5|        0.3| setosa|  (2,[],[])|  2.0|\n",
            "+------------+-----------+------------+-----------+-------+-----------+-----+\n",
            "only showing top 20 rows\n",
            "\n"
          ],
          "name": "stdout"
        }
      ]
    },
    {
      "cell_type": "code",
      "metadata": {
        "id": "T9RpjKpM3P1h",
        "colab_type": "code",
        "colab": {}
      },
      "source": [
        "### CHANGE FORMAT FOR MAHCINE LEARNING \n",
        "output = assembler.transform(py_df)"
      ],
      "execution_count": 0,
      "outputs": []
    },
    {
      "cell_type": "code",
      "metadata": {
        "id": "kwZhOZNa3P9H",
        "colab_type": "code",
        "colab": {
          "base_uri": "https://localhost:8080/",
          "height": 459
        },
        "outputId": "9e98dca6-8946-4b73-ec5d-2c5df8c5126e"
      },
      "source": [
        "output.select('features','label').show()"
      ],
      "execution_count": 29,
      "outputs": [
        {
          "output_type": "stream",
          "text": [
            "+-----------------+-----+\n",
            "|         features|label|\n",
            "+-----------------+-----+\n",
            "|[5.1,3.5,1.4,0.2]|  2.0|\n",
            "|[4.9,3.0,1.4,0.2]|  2.0|\n",
            "|[4.7,3.2,1.3,0.2]|  2.0|\n",
            "|[4.6,3.1,1.5,0.2]|  2.0|\n",
            "|[5.0,3.6,1.4,0.2]|  2.0|\n",
            "|[5.4,3.9,1.7,0.4]|  2.0|\n",
            "|[4.6,3.4,1.4,0.3]|  2.0|\n",
            "|[5.0,3.4,1.5,0.2]|  2.0|\n",
            "|[4.4,2.9,1.4,0.2]|  2.0|\n",
            "|[4.9,3.1,1.5,0.1]|  2.0|\n",
            "|[5.4,3.7,1.5,0.2]|  2.0|\n",
            "|[4.8,3.4,1.6,0.2]|  2.0|\n",
            "|[4.8,3.0,1.4,0.1]|  2.0|\n",
            "|[4.3,3.0,1.1,0.1]|  2.0|\n",
            "|[5.8,4.0,1.2,0.2]|  2.0|\n",
            "|[5.7,4.4,1.5,0.4]|  2.0|\n",
            "|[5.4,3.9,1.3,0.4]|  2.0|\n",
            "|[5.1,3.5,1.4,0.3]|  2.0|\n",
            "|[5.7,3.8,1.7,0.3]|  2.0|\n",
            "|[5.1,3.8,1.5,0.3]|  2.0|\n",
            "+-----------------+-----+\n",
            "only showing top 20 rows\n",
            "\n"
          ],
          "name": "stdout"
        }
      ]
    },
    {
      "cell_type": "code",
      "metadata": {
        "id": "BLCqqO9u3QFP",
        "colab_type": "code",
        "colab": {
          "base_uri": "https://localhost:8080/",
          "height": 187
        },
        "outputId": "77aaa422-06d6-4a1f-c8bb-f85cb602ea3e"
      },
      "source": [
        "### SPLITING THE DATA RANDOMLY FOR TRAIN TEST SET  \n",
        "final_data = output.select(['features','label'])\n",
        "train,test = final_data.randomSplit([0.7,0.3])\n",
        "train.describe().show()"
      ],
      "execution_count": 30,
      "outputs": [
        {
          "output_type": "stream",
          "text": [
            "+-------+------------------+\n",
            "|summary|             label|\n",
            "+-------+------------------+\n",
            "|  count|                95|\n",
            "|   mean|0.8736842105263158|\n",
            "| stddev|0.8153070856413407|\n",
            "|    min|               0.0|\n",
            "|    max|               2.0|\n",
            "+-------+------------------+\n",
            "\n"
          ],
          "name": "stdout"
        }
      ]
    },
    {
      "cell_type": "code",
      "metadata": {
        "id": "Va5kHd573eRo",
        "colab_type": "code",
        "colab": {
          "base_uri": "https://localhost:8080/",
          "height": 153
        },
        "outputId": "1ab3fc41-b7ba-4868-90ca-404cc04d1831"
      },
      "source": [
        "train.groupBy('label').count().show()"
      ],
      "execution_count": 31,
      "outputs": [
        {
          "output_type": "stream",
          "text": [
            "+-----+-----+\n",
            "|label|count|\n",
            "+-----+-----+\n",
            "|  0.0|   38|\n",
            "|  1.0|   31|\n",
            "|  2.0|   26|\n",
            "+-----+-----+\n",
            "\n"
          ],
          "name": "stdout"
        }
      ]
    },
    {
      "cell_type": "code",
      "metadata": {
        "id": "Zsd5cStP3emB",
        "colab_type": "code",
        "colab": {}
      },
      "source": [
        "#### IMPORTING LOGISTIC REGRESSION FOR CLASSIFICATION \n",
        "from pyspark.ml.classification import LogisticRegression\n",
        "lr_model = LogisticRegression()\n",
        "\n",
        "fit_lr_model = lr_model.fit(train)"
      ],
      "execution_count": 0,
      "outputs": []
    },
    {
      "cell_type": "code",
      "metadata": {
        "id": "RW1k5UoS3e48",
        "colab_type": "code",
        "colab": {}
      },
      "source": [
        "### PREDICTION FORM THE TRAINED MODEL\n",
        "predictions_eval = fit_lr_model.evaluate(test)"
      ],
      "execution_count": 0,
      "outputs": []
    },
    {
      "cell_type": "code",
      "metadata": {
        "id": "0YPHWL6r3fKp",
        "colab_type": "code",
        "colab": {
          "base_uri": "https://localhost:8080/",
          "height": 459
        },
        "outputId": "f5e091bb-ef9c-466a-f175-8ffa256af8f2"
      },
      "source": [
        "predictions_eval.predictions.show()"
      ],
      "execution_count": 34,
      "outputs": [
        {
          "output_type": "stream",
          "text": [
            "+-----------------+-----+--------------------+--------------------+----------+\n",
            "|         features|label|       rawPrediction|         probability|prediction|\n",
            "+-----------------+-----+--------------------+--------------------+----------+\n",
            "|[4.4,2.9,1.4,0.2]|  2.0|[-23.411977040831...|[3.32819137768198...|       2.0|\n",
            "|[4.4,3.2,1.3,0.2]|  2.0|[-33.601267937026...|[1.07842806102753...|       2.0|\n",
            "|[4.6,3.1,1.5,0.2]|  2.0|[-27.555289370891...|[6.46374740344420...|       2.0|\n",
            "|[4.6,3.2,1.4,0.2]|  2.0|[-31.284067383370...|[1.96872169704188...|       2.0|\n",
            "|[4.6,3.4,1.4,0.3]|  2.0|[-36.466061019235...|[5.19641342392006...|       2.0|\n",
            "|[4.7,3.2,1.6,0.2]|  2.0|[-29.377684750610...|[2.94776716928976...|       2.0|\n",
            "|[4.8,3.0,1.4,0.1]|  2.0|[-24.283394764468...|[1.27150065920258...|       2.0|\n",
            "|[4.8,3.0,1.4,0.3]|  2.0|[-21.726356268768...|[7.82689399151179...|       2.0|\n",
            "|[4.8,3.4,1.9,0.2]|  2.0|[-33.433293430945...|[5.02836138177326...|       2.0|\n",
            "|[4.9,3.1,1.5,0.1]|  2.0|[-26.105790144187...|[5.79862990458214...|       2.0|\n",
            "|[5.0,2.0,3.5,1.0]|  0.0|[31.8134748508422...|[0.99999991515944...|       0.0|\n",
            "|[5.0,3.0,1.6,0.2]|  2.0|[-20.189153392340...|[6.16719507555125...|       2.0|\n",
            "|[5.0,3.3,1.4,0.2]|  2.0|[-30.876965859156...|[1.86607483909584...|       2.0|\n",
            "|[5.0,3.4,1.5,0.2]|  2.0|[-33.608700730393...|[6.51796528765773...|       2.0|\n",
            "|[5.0,3.4,1.6,0.4]|  2.0|[-30.553140664072...|[4.29661482565553...|       2.0|\n",
            "|[5.0,3.5,1.6,0.6]|  2.0|[-31.226358610229...|[8.62662169788470...|       2.0|\n",
            "|[5.1,3.3,1.7,0.5]|  2.0|[-24.636503912225...|[4.56971081623669...|       2.0|\n",
            "|[5.1,3.4,1.5,0.2]|  2.0|[-32.699361238876...|[8.51016260813864...|       2.0|\n",
            "|[5.1,3.5,1.4,0.2]|  2.0|[-36.428139251355...|[2.59201678627952...|       2.0|\n",
            "|[5.2,2.7,3.9,1.4]|  0.0|[18.1285220147570...|[0.99998086856946...|       0.0|\n",
            "+-----------------+-----+--------------------+--------------------+----------+\n",
            "only showing top 20 rows\n",
            "\n"
          ],
          "name": "stdout"
        }
      ]
    },
    {
      "cell_type": "code",
      "metadata": {
        "id": "mVmevyQ93fas",
        "colab_type": "code",
        "colab": {
          "base_uri": "https://localhost:8080/",
          "height": 34
        },
        "outputId": "601aefe2-75e8-43fd-98af-cd07b3f9cb82"
      },
      "source": [
        "### ROC FOR ACCURACY AND TRAINING \n",
        "my_eval = MulticlassClassificationEvaluator()\n",
        "roc = my_eval.evaluate(predictions_eval.predictions)\n",
        "roc"
      ],
      "execution_count": 35,
      "outputs": [
        {
          "output_type": "execute_result",
          "data": {
            "text/plain": [
              "1.0"
            ]
          },
          "metadata": {
            "tags": []
          },
          "execution_count": 35
        }
      ]
    },
    {
      "cell_type": "code",
      "metadata": {
        "id": "h99aKJ5aEYPS",
        "colab_type": "code",
        "colab": {}
      },
      "source": [
        ""
      ],
      "execution_count": 0,
      "outputs": []
    }
  ]
}